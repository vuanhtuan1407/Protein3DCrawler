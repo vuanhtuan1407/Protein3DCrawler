{
 "cells": [
  {
   "cell_type": "code",
   "id": "initial_id",
   "metadata": {
    "collapsed": true,
    "ExecuteTime": {
     "end_time": "2024-04-24T09:35:56.395434Z",
     "start_time": "2024-04-24T09:35:56.254467Z"
    }
   },
   "source": [
    "from crawler import load_cached\n",
    "\n",
    "load_cached()"
   ],
   "execution_count": 1,
   "outputs": []
  },
  {
   "metadata": {
    "ExecuteTime": {
     "end_time": "2024-04-24T10:02:02.781725Z",
     "start_time": "2024-04-24T10:01:38.042781Z"
    }
   },
   "cell_type": "code",
   "source": [
    "from selenium import webdriver\n",
    "from selenium.webdriver.common.by import By\n",
    "from selenium.webdriver.support.wait import WebDriverWait\n",
    "from selenium.webdriver.support import expected_conditions as EC\n",
    "\n",
    "options = webdriver.ChromeOptions()\n",
    "options.add_argument('--headless')\n",
    "driver = webdriver.Chrome(options=options)\n",
    "\n",
    "driver.get('https://www.uniprot.org/uniprotkb/Q93442/entry#structure')\n",
    "try:\n",
    "    af = WebDriverWait(driver, 10).until(\n",
    "        EC.presence_of_element_located((By.XPATH, \"//a[text()='AlphaFold']\"))\n",
    "    ).get_attribute('href')\n",
    "    print(af)\n",
    "except TimeoutError:\n",
    "    print('No AlphaFold found')"
   ],
   "id": "9f7b09ac7b96a52a",
   "execution_count": 4,
   "outputs": []
  },
  {
   "metadata": {
    "ExecuteTime": {
     "end_time": "2024-04-25T03:35:55.096300Z",
     "start_time": "2024-04-25T03:35:55.090590Z"
    }
   },
   "cell_type": "code",
   "source": [
    "a = ['1', '2', '3', '4']\n",
    "a.remove('1')\n",
    "a"
   ],
   "id": "f5deae3793c38bb0",
   "execution_count": 5,
   "outputs": []
  },
  {
   "metadata": {
    "ExecuteTime": {
     "end_time": "2024-04-25T04:10:35.358138Z",
     "start_time": "2024-04-25T04:10:35.352822Z"
    }
   },
   "cell_type": "code",
   "source": [
    "import json\n",
    "\n",
    "t = {\n",
    "    'AlphaFold': 'a',\n",
    "    'AlphaFold2': 'b',\n",
    "    'AlphaFold3': 'c',\n",
    "}\n",
    "\n",
    "with open('AlphaFold.json', 'w') as f:\n",
    "    json.dump(t, f)"
   ],
   "id": "4acc888e8e20c766",
   "execution_count": 6,
   "outputs": []
  },
  {
   "metadata": {},
   "cell_type": "code",
   "execution_count": null,
   "source": "",
   "id": "d77c407d946b410e",
   "outputs": []
  }
 ],
 "metadata": {
  "kernelspec": {
   "display_name": "Python 3",
   "language": "python",
   "name": "python3"
  },
  "language_info": {
   "codemirror_mode": {
    "name": "ipython",
    "version": 2
   },
   "file_extension": ".py",
   "mimetype": "text/x-python",
   "name": "python",
   "nbconvert_exporter": "python",
   "pygments_lexer": "ipython2",
   "version": "2.7.6"
  }
 },
 "nbformat": 4,
 "nbformat_minor": 5
}
