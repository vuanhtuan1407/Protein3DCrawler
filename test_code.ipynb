{
 "cells": [
  {
   "metadata": {
    "ExecuteTime": {
     "end_time": "2024-05-12T17:19:47.570526Z",
     "start_time": "2024-05-12T17:19:43.434917Z"
    }
   },
   "cell_type": "code",
   "source": [
    "import json\n",
    "\n",
    "cnt = 0\n",
    "\n",
    "with open('./data/3d_dataset.json', 'r') as f:\n",
    "    data = json.load(f)\n",
    "    for record in data:\n",
    "        if record['prot_3d'] is []:\n",
    "            cnt += 1\n",
    "\n",
    "print(cnt)"
   ],
   "id": "adf41e8b24acf41e",
   "outputs": [
    {
     "name": "stdout",
     "output_type": "stream",
     "text": [
      "0\n"
     ]
    }
   ],
   "execution_count": 3
  },
  {
   "metadata": {
    "ExecuteTime": {
     "end_time": "2024-05-12T17:26:29.474442Z",
     "start_time": "2024-05-12T17:26:29.463417Z"
    }
   },
   "cell_type": "code",
   "source": [
    "from crawler import load_cache\n",
    "\n",
    "done_ids, missing_ids = load_cache()\n",
    "print(len(done_ids)+len(missing_ids))"
   ],
   "id": "1d4fa087306178a4",
   "outputs": [
    {
     "name": "stdout",
     "output_type": "stream",
     "text": [
      "20290\n"
     ]
    }
   ],
   "execution_count": 7
  },
  {
   "metadata": {
    "ExecuteTime": {
     "end_time": "2024-05-13T16:27:52.049886Z",
     "start_time": "2024-05-13T16:27:52.039511Z"
    }
   },
   "cell_type": "code",
   "source": [
    "t = [1,2,3,4]\n",
    "for i, a in enumerate(t[:-1]):\n",
    "    for j, b in enumerate(t[i+1:]):\n",
    "        print(i, j, a, b)"
   ],
   "id": "919a6b887bf0c144",
   "outputs": [
    {
     "name": "stdout",
     "output_type": "stream",
     "text": [
      "0 0 1 2\n",
      "0 1 1 3\n",
      "0 2 1 4\n",
      "1 0 2 3\n",
      "1 1 2 4\n",
      "2 0 3 4\n"
     ]
    }
   ],
   "execution_count": 1
  },
  {
   "metadata": {},
   "cell_type": "code",
   "outputs": [],
   "execution_count": null,
   "source": "",
   "id": "270e29b197f48ec5"
  }
 ],
 "metadata": {
  "kernelspec": {
   "display_name": "Python 3",
   "language": "python",
   "name": "python3"
  },
  "language_info": {
   "codemirror_mode": {
    "name": "ipython",
    "version": 2
   },
   "file_extension": ".py",
   "mimetype": "text/x-python",
   "name": "python",
   "nbconvert_exporter": "python",
   "pygments_lexer": "ipython2",
   "version": "2.7.6"
  }
 },
 "nbformat": 4,
 "nbformat_minor": 5
}
