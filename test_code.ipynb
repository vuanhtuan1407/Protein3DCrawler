{
 "cells": [
  {
   "metadata": {
    "ExecuteTime": {
     "end_time": "2024-05-23T09:45:16.349675Z",
     "start_time": "2024-05-23T09:44:36.498344Z"
    }
   },
   "cell_type": "code",
   "source": [
    "import json\n",
    "\n",
    "max_len = 0\n",
    "\n",
    "with open('./data/3d_dataset.json', 'r') as f:\n",
    "    data = json.load(f)\n",
    "    for record in data:\n",
    "        if len(record['prot_3d']) > max_len:\n",
    "            max_len = len(record['prot_3d'])\n",
    "\n",
    "print(max_len)\n"
   ],
   "id": "adf41e8b24acf41e",
   "outputs": [
    {
     "name": "stdout",
     "output_type": "stream",
     "text": [
      "2697\n"
     ]
    }
   ],
   "execution_count": 1
  },
  {
   "metadata": {
    "ExecuteTime": {
     "end_time": "2024-05-12T17:26:29.474442Z",
     "start_time": "2024-05-12T17:26:29.463417Z"
    }
   },
   "cell_type": "code",
   "source": [
    "from crawler import load_cache\n",
    "\n",
    "done_ids, missing_ids = load_cache()\n",
    "print(len(done_ids)+len(missing_ids))"
   ],
   "id": "1d4fa087306178a4",
   "execution_count": 7,
   "outputs": []
  },
  {
   "metadata": {
    "ExecuteTime": {
     "end_time": "2024-05-23T08:59:47.186155Z",
     "start_time": "2024-05-23T08:59:47.181809Z"
    }
   },
   "cell_type": "code",
   "source": [
    "t = [1,2,3,4]\n",
    "for i, a in enumerate(t[:-1]):\n",
    "    for j, b in enumerate(t[i+1:]):\n",
    "        print(i, j+i+1, a, b)"
   ],
   "id": "919a6b887bf0c144",
   "outputs": [
    {
     "name": "stdout",
     "output_type": "stream",
     "text": [
      "0 1 1 2\n",
      "0 2 1 3\n",
      "0 3 1 4\n",
      "1 2 2 3\n",
      "1 3 2 4\n",
      "2 3 3 4\n"
     ]
    }
   ],
   "execution_count": 3
  },
  {
   "metadata": {
    "ExecuteTime": {
     "end_time": "2024-06-01T17:44:00.424197Z",
     "start_time": "2024-06-01T17:44:00.222098Z"
    }
   },
   "cell_type": "code",
   "source": [
    "max_len = 'longest'\n",
    "length = 70\n",
    "if length < max_len or max_len == 'longest':\n",
    "    print(\"True\")"
   ],
   "id": "270e29b197f48ec5",
   "outputs": [
    {
     "ename": "TypeError",
     "evalue": "'<' not supported between instances of 'int' and 'str'",
     "output_type": "error",
     "traceback": [
      "\u001B[1;31m---------------------------------------------------------------------------\u001B[0m",
      "\u001B[1;31mTypeError\u001B[0m                                 Traceback (most recent call last)",
      "Cell \u001B[1;32mIn[2], line 3\u001B[0m\n\u001B[0;32m      1\u001B[0m max_len \u001B[38;5;241m=\u001B[39m \u001B[38;5;124m'\u001B[39m\u001B[38;5;124mlongest\u001B[39m\u001B[38;5;124m'\u001B[39m\n\u001B[0;32m      2\u001B[0m length \u001B[38;5;241m=\u001B[39m \u001B[38;5;241m70\u001B[39m\n\u001B[1;32m----> 3\u001B[0m \u001B[38;5;28;01mif\u001B[39;00m \u001B[43mlength\u001B[49m\u001B[43m \u001B[49m\u001B[38;5;241;43m<\u001B[39;49m\u001B[43m \u001B[49m\u001B[43mmax_len\u001B[49m \u001B[38;5;129;01mor\u001B[39;00m max_len \u001B[38;5;241m==\u001B[39m \u001B[38;5;124m'\u001B[39m\u001B[38;5;124mlongest\u001B[39m\u001B[38;5;124m'\u001B[39m:\n\u001B[0;32m      4\u001B[0m     \u001B[38;5;28mprint\u001B[39m(\u001B[38;5;124m\"\u001B[39m\u001B[38;5;124mTrue\u001B[39m\u001B[38;5;124m\"\u001B[39m)\n",
      "\u001B[1;31mTypeError\u001B[0m: '<' not supported between instances of 'int' and 'str'"
     ]
    }
   ],
   "execution_count": 2
  },
  {
   "metadata": {
    "ExecuteTime": {
     "end_time": "2024-06-03T16:49:25.051Z",
     "start_time": "2024-06-03T16:49:25.038743Z"
    }
   },
   "cell_type": "code",
   "source": [
    "t = 2**3\n",
    "t"
   ],
   "id": "fff4c3e8280fa225",
   "outputs": [
    {
     "data": {
      "text/plain": [
       "8"
      ]
     },
     "execution_count": 1,
     "metadata": {},
     "output_type": "execute_result"
    }
   ],
   "execution_count": 1
  },
  {
   "metadata": {},
   "cell_type": "code",
   "outputs": [],
   "execution_count": null,
   "source": "",
   "id": "1a7110fb904a45d7"
  }
 ],
 "metadata": {
  "kernelspec": {
   "display_name": "Python 3",
   "language": "python",
   "name": "python3"
  },
  "language_info": {
   "codemirror_mode": {
    "name": "ipython",
    "version": 2
   },
   "file_extension": ".py",
   "mimetype": "text/x-python",
   "name": "python",
   "nbconvert_exporter": "python",
   "pygments_lexer": "ipython2",
   "version": "2.7.6"
  }
 },
 "nbformat": 4,
 "nbformat_minor": 5
}
