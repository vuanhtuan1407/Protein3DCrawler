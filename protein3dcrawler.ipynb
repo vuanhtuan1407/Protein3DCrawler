{
 "metadata": {
  "kernelspec": {
   "language": "python",
   "display_name": "Python 3",
   "name": "python3"
  },
  "language_info": {
   "name": "python",
   "version": "3.10.13",
   "mimetype": "text/x-python",
   "codemirror_mode": {
    "name": "ipython",
    "version": 3
   },
   "pygments_lexer": "ipython3",
   "nbconvert_exporter": "python",
   "file_extension": ".py"
  },
  "kaggle": {
   "accelerator": "none",
   "dataSources": [
    {
     "sourceId": 8131065,
     "sourceType": "datasetVersion",
     "datasetId": 4805916
    }
   ],
   "dockerImageVersionId": 30684,
   "isInternetEnabled": true,
   "language": "python",
   "sourceType": "notebook",
   "isGpuEnabled": false
  }
 },
 "nbformat_minor": 4,
 "nbformat": 4,
 "cells": [
  {
   "metadata": {},
   "cell_type": "markdown",
   "source": "## Note that the code below is only used if you are working with Kaggle!"
  },
  {
   "metadata": {},
   "cell_type": "markdown",
   "source": "Code used for installing and setting up browser environment"
  },
  {
   "cell_type": "code",
   "source": "# # install google chrome\n# !wget https://dl.google.com/linux/linux_signing_key.pub\n# !sudo apt-key add linux_signing_key.pub\n# !echo 'deb [arch=amd64] http://dl.google.com/linux/chrome/deb/ stable main' >> /etc/apt/sources.list.d/google-chrome.list\n# !sudo apt-get -y update\n# !sudo apt-get install -y google-chrome-stable\n\n# # install chromedriver\n# # !apt-get install -y qq unzip\n# !wget -O /tmp/chromedriver.zip http://chromedriver.storage.googleapis.com/`curl -sS chromedriver.storage.googleapis.com/LATEST_RELEASE`/chromedriver_linux64.zip\n# !unzip /tmp/chromedriver.zip chromedriver -d /usr/bin/",
   "metadata": {
    "execution": {
     "iopub.status.busy": "2024-04-16T04:56:39.003069Z",
     "iopub.status.idle": "2024-04-16T04:56:39.036358Z",
     "shell.execute_reply.started": "2024-04-16T04:56:39.003932Z",
     "shell.execute_reply": "2024-04-16T04:56:39.035423Z"
    },
    "trusted": true
   },
   "execution_count": null,
   "outputs": []
  },
  {
   "cell_type": "code",
   "source": "# # To check Google Chrome's version\n# !google-chrome --version\n\n# # To check Chrome Driver's version\n# !chromedriver -v",
   "metadata": {
    "execution": {
     "iopub.status.busy": "2024-04-16T04:56:39.038427Z",
     "iopub.execute_input": "2024-04-16T04:56:39.039077Z",
     "iopub.status.idle": "2024-04-16T04:56:39.042517Z",
     "shell.execute_reply.started": "2024-04-16T04:56:39.039015Z",
     "shell.execute_reply": "2024-04-16T04:56:39.041740Z"
    },
    "trusted": true
   },
   "execution_count": null,
   "outputs": []
  },
  {
   "cell_type": "code",
   "source": "# # Install Firefox\n# !sudo install -d -m 0755 /etc/apt/keyrings\n# !wget -q https://packages.mozilla.org/apt/repo-signing-key.gpg -O- | sudo tee /etc/apt/keyrings/packages.mozilla.org.asc > /dev/null\n# !gpg -n -q --import --import-options import-show /etc/apt/keyrings/packages.mozilla.org.asc | awk '/pub/{getline; gsub(/^ +| +$/,\"\"); if($0 == \"35BAA0B33E9EB396F59CA838C0BA5CE6DC6315A3\") print \"\\nThe key fingerprint matches (\"$0\").\\n\"; else print \"\\nVerification failed: the fingerprint (\"$0\") does not match the expected one.\\n\"}'\n# !echo \"deb [signed-by=/etc/apt/keyrings/packages.mozilla.org.asc] https://packages.mozilla.org/apt mozilla main\" | sudo tee -a /etc/apt/sources.list.d/mozilla.list > /dev/null\n# !echo 'Package: * Pin: origin packages.mozilla.org Pin-Priority: 1000' | sudo tee /etc/apt/preferences.d/mozilla\n# !sudo apt-get update && sudo apt-get install firefox -y",
   "metadata": {
    "execution": {
     "iopub.status.busy": "2024-04-16T04:56:39.043772Z",
     "iopub.execute_input": "2024-04-16T04:56:39.044104Z",
     "iopub.status.idle": "2024-04-16T04:56:39.054354Z",
     "shell.execute_reply.started": "2024-04-16T04:56:39.044076Z",
     "shell.execute_reply": "2024-04-16T04:56:39.053070Z"
    },
    "trusted": true
   },
   "execution_count": null,
   "outputs": []
  },
  {
   "cell_type": "code",
   "source": [
    "# Install Microsoft Edge\n",
    "!curl https://packages.microsoft.com/keys/microsoft.asc | gpg --dearmor > microsoft.gpg\n",
    "!sudo install -o root -g root -m 644 microsoft.gpg /etc/apt/trusted.gpg.d/\n",
    "!sudo sh -c 'echo \"deb [arch=amd64] https://packages.microsoft.com/repos/edge stable main\" > /etc/apt/sources.list.d/microsoft-edge-dev.list'\n",
    "!sudo rm microsoft.gpg\n",
    "!sudo apt update && sudo apt install microsoft-edge-stable -y"
   ],
   "metadata": {
    "execution": {
     "iopub.status.busy": "2024-04-16T04:56:39.055901Z",
     "iopub.execute_input": "2024-04-16T04:56:39.057108Z",
     "iopub.status.idle": "2024-04-16T04:57:14.911146Z",
     "shell.execute_reply.started": "2024-04-16T04:56:39.056910Z",
     "shell.execute_reply": "2024-04-16T04:57:14.909439Z"
    },
    "trusted": true
   },
   "execution_count": null,
   "outputs": []
  },
  {
   "cell_type": "code",
   "source": "!sudo apt install -y python3-selenium",
   "metadata": {
    "execution": {
     "iopub.status.busy": "2024-04-16T04:57:14.915134Z",
     "iopub.execute_input": "2024-04-16T04:57:14.915619Z",
     "iopub.status.idle": "2024-04-16T04:57:29.182852Z",
     "shell.execute_reply.started": "2024-04-16T04:57:14.915569Z",
     "shell.execute_reply": "2024-04-16T04:57:29.181611Z"
    },
    "trusted": true
   },
   "execution_count": null,
   "outputs": []
  },
  {
   "cell_type": "code",
   "source": [
    "!pip install biopython\n",
    "!pip install selenium\n",
    "!pip install webdriver-manager"
   ],
   "metadata": {
    "execution": {
     "iopub.status.busy": "2024-04-16T04:57:29.184353Z",
     "iopub.execute_input": "2024-04-16T04:57:29.184687Z",
     "iopub.status.idle": "2024-04-16T04:58:22.986257Z",
     "shell.execute_reply.started": "2024-04-16T04:57:29.184657Z",
     "shell.execute_reply": "2024-04-16T04:58:22.984894Z"
    },
    "trusted": true
   },
   "execution_count": null,
   "outputs": []
  },
  {
   "cell_type": "code",
   "source": "# !pip install tqdm\n# !pip install urllib3",
   "metadata": {
    "execution": {
     "iopub.status.busy": "2024-04-16T04:58:22.988139Z",
     "iopub.execute_input": "2024-04-16T04:58:22.988496Z",
     "iopub.status.idle": "2024-04-16T04:58:22.995692Z",
     "shell.execute_reply.started": "2024-04-16T04:58:22.988461Z",
     "shell.execute_reply": "2024-04-16T04:58:22.994566Z"
    },
    "trusted": true
   },
   "execution_count": null,
   "outputs": []
  },
  {
   "cell_type": "code",
   "source": [
    "# parameters\n",
    "KAGGLE_DIR = '/kaggle/working'\n",
    "SRC_DIR = '/kaggle/input/dataset'\n",
    "SAVE_DIR = KAGGLE_DIR + '/pdb'\n",
    "SP6_PATH = SRC_DIR + '/train_set.fasta'"
   ],
   "metadata": {
    "execution": {
     "iopub.status.busy": "2024-04-16T04:58:45.708189Z",
     "iopub.execute_input": "2024-04-16T04:58:45.708613Z",
     "iopub.status.idle": "2024-04-16T04:58:45.714765Z",
     "shell.execute_reply.started": "2024-04-16T04:58:45.708574Z",
     "shell.execute_reply": "2024-04-16T04:58:45.713420Z"
    },
    "trusted": true
   },
   "execution_count": null,
   "outputs": []
  },
  {
   "cell_type": "code",
   "source": "from Bio import SeqIO\n\ndef read_fasta(fasta_file=SP6_PATH):\n    signal_proteins = []\n    records = SeqIO.parse(fasta_file, 'fasta')\n    for record in records:\n        annotation = str(record.id).split('|')\n#         seq = str(record.seq)[:len(str(record.seq)) // 2]\n        signal_proteins.append(annotation[0])\n    return signal_proteins",
   "metadata": {
    "execution": {
     "iopub.status.busy": "2024-04-16T04:58:50.886376Z",
     "iopub.execute_input": "2024-04-16T04:58:50.887129Z",
     "iopub.status.idle": "2024-04-16T04:58:50.893439Z",
     "shell.execute_reply.started": "2024-04-16T04:58:50.887091Z",
     "shell.execute_reply": "2024-04-16T04:58:50.892258Z"
    },
    "trusted": true
   },
   "execution_count": null,
   "outputs": []
  },
  {
   "cell_type": "code",
   "source": "from selenium import webdriver\nfrom selenium.webdriver.edge.options import Options\nfrom selenium.webdriver.edge.service import Service\nfrom selenium.webdriver.common.by import By\nfrom selenium.webdriver.support import expected_conditions as EC\n# from selenium.webdriver.support.wait import WebDriverWait\nfrom selenium.webdriver.support.ui import WebDriverWait\n# from webdriver_manager.microsoft import GeckoDriverManager\nfrom webdriver_manager.microsoft import EdgeChromiumDriverManager\n\nfrom tqdm import tqdm\nimport logging\nimport urllib.request as req\nimport os\nimport numpy as np\n\ndef crawl():\n    # Read fasta file:\n    prots = read_fasta(SP6_PATH)\n\n    # Open driver\n    options = Options()\n#     options.headless = True\n#     options = webdriver.FirefoxOptions()\n    options.add_argument('--headless')\n#     options.add_argument('--disable-gpu')\n    options.add_argument('--no-sandbox')\n    options.add_argument('--disable-dev-shm-usage')\n#     chrome_options.add_argument(\"--window-size=1920,1080\")\n    driver = webdriver.Edge(service=Service(EdgeChromiumDriverManager().install()), options=options)\n\n    error_ids = []\n\n    # for loop to get file\n    for _, prot_id in tqdm(enumerate(prots)):\n        try:\n            # access Uniprot page\n            driver.get(f'https://www.uniprot.org/uniprotkb/{prot_id}/entry#structure')\n            alphafold_url = WebDriverWait(driver, 30).until(\n                EC.presence_of_element_located((By.XPATH, \"//a[text()='AlphaFold']\"))\n            ).get_attribute('href')\n\n            # redirect to AlphaFold page\n            driver.get(alphafold_url)\n            download_url = WebDriverWait(driver, 30).until(\n                EC.presence_of_element_located((By.XPATH, \"//a[text()='PDB file ']\"))\n            ).get_attribute('href')\n            \n            if not os.path.exists(SAVE_DIR):\n                os.makedirs(SAVE_DIR, exist_ok=True)\n\n            filename = SAVE_DIR + '/' + download_url.split('/')[-1]\n            req.urlretrieve(download_url, filename)\n\n        except Exception as e:\n            error_ids.append(prot_id)\n            logging.exception(e)\n            \n    np.savetxt(KAGGLE_DIR + '/error_ids.txt', error_ids, fmt=\"%s\")\n    driver.close()",
   "metadata": {
    "execution": {
     "iopub.status.busy": "2024-04-16T05:01:59.876912Z",
     "iopub.execute_input": "2024-04-16T05:01:59.877590Z",
     "iopub.status.idle": "2024-04-16T05:01:59.891519Z",
     "shell.execute_reply.started": "2024-04-16T05:01:59.877551Z",
     "shell.execute_reply": "2024-04-16T05:01:59.890555Z"
    },
    "trusted": true
   },
   "execution_count": null,
   "outputs": []
  },
  {
   "cell_type": "code",
   "source": "crawl()",
   "metadata": {
    "execution": {
     "iopub.status.busy": "2024-04-16T05:02:01.614449Z",
     "iopub.execute_input": "2024-04-16T05:02:01.615083Z",
     "iopub.status.idle": "2024-04-16T05:02:46.879755Z",
     "shell.execute_reply.started": "2024-04-16T05:02:01.615050Z",
     "shell.execute_reply": "2024-04-16T05:02:46.878106Z"
    },
    "trusted": true
   },
   "execution_count": null,
   "outputs": []
  },
  {
   "cell_type": "code",
   "source": "# !pip list",
   "metadata": {
    "trusted": true
   },
   "execution_count": null,
   "outputs": []
  }
 ]
}
